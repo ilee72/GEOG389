{
 "cells": [
  {
   "cell_type": "markdown",
   "metadata": {},
   "source": [
    "# Lab 6: Spatial and Attribute Join\n",
    "\n",
    "\n",
    "In this lab we will practise to convert spatial data from one model to another using different operations.\n",
    "\n",
    "Please download the data for Lab 6 from [here](https://drive.google.com/file/d/14tO8vbIGmQs-xLH3rajEtQjDXjnYU6vB/view?usp=sharing)"
   ]
  },
  {
   "cell_type": "markdown",
   "metadata": {},
   "source": [
    "## Task 1: Using spatial join to aggregate points in polygons\n",
    "\n",
    "Spatial join is a very useful operation to aggregate and relate different vector datasets (e.g. point, line or polygons). For instance, spatial join can be used to count the number of points in polygon boundaries. In this task, you will aggregate crime incidents (points) in Oahu into census tract boundaries (polygons) using spatial join. When crime incidents are aggregated in census tracts, you can calculate crime rate and associate crime and other variables reported in census tracts."
   ]
  },
  {
   "cell_type": "markdown",
   "metadata": {},
   "source": [
    "First, complete the following code to read the census tract polygons (CensusTract_Oahu.shp) from the downloaded data folder."
   ]
  },
  {
   "cell_type": "code",
   "execution_count": null,
   "metadata": {},
   "outputs": [],
   "source": [
    "import geopandas\n",
    "censustract = "
   ]
  },
  {
   "cell_type": "markdown",
   "metadata": {},
   "source": [
    "Are you tired of typing or copying&pasting the long file path every time? You will feel more tired if you need to load many datasets.\n",
    "\n",
    "One way to skip typing the full path is setting your working directory to the folder of all your data. Once the working directory is set, you can read datasets with only the file names without the long path in front."
   ]
  },
  {
   "cell_type": "code",
   "execution_count": null,
   "metadata": {},
   "outputs": [],
   "source": [
    "# Import os package and set working directory.\n",
    "import os\n",
    "os.chdir(\"C:/Users/yi/Documents/UH_work/Teaching/GEOG389/labs/lab6_data/\")"
   ]
  },
  {
   "cell_type": "markdown",
   "metadata": {},
   "source": [
    "Try re-read the census tract data without the long path."
   ]
  },
  {
   "cell_type": "code",
   "execution_count": null,
   "metadata": {},
   "outputs": [],
   "source": [
    "censustract = geopandas.read_file(\"CensusTract_Oahu.shp\")"
   ]
  },
  {
   "cell_type": "markdown",
   "metadata": {},
   "source": [
    "Complete the following code to read the crime data (burglary.shp)"
   ]
  },
  {
   "cell_type": "code",
   "execution_count": null,
   "metadata": {},
   "outputs": [],
   "source": [
    "crime = "
   ]
  },
  {
   "cell_type": "markdown",
   "metadata": {},
   "source": [
    "Preview the two datasets."
   ]
  },
  {
   "cell_type": "code",
   "execution_count": null,
   "metadata": {},
   "outputs": [],
   "source": []
  },
  {
   "cell_type": "code",
   "execution_count": null,
   "metadata": {},
   "outputs": [],
   "source": []
  },
  {
   "cell_type": "markdown",
   "metadata": {},
   "source": [
    "### Question 1: Please use an appropriate method (or function) to find the number of features (points and polygons) in the two datasets.\n",
    "\n",
    "Tip: there are different ways to do it."
   ]
  },
  {
   "cell_type": "markdown",
   "metadata": {},
   "source": [
    "### Question 2: Please create a map to display crime points on top of the census tract boundaries.\n",
    "\n",
    "Your map should be like the following.\n",
    "\n",
    "Tip: you can refer to previous labs to finish this question.\n",
    "\n",
    "You would need to import the `matplotlib.pyplot` package\n",
    "\n",
    "<img src=\"images/fig17.jpg\" width=\"500\" align=\"left\">\n"
   ]
  },
  {
   "cell_type": "markdown",
   "metadata": {},
   "source": [
    "Next, we will calculate the crime count in each census tract by spatial joining the crime points to the census tract polygons.\n",
    "\n",
    "This task can be completed by the following steps:\n",
    "\n",
    "- First, read two datasets `censustract` and `crime`.\n",
    "- Second, join the crime points to census tracts. After joining, each census tract has been duplicated for each crime point in the tract.\n",
    "- Third, group the duplicated census tracts by their unique IDs (GEOID or AFFGEOID), and calculated the crime count in each tract.\n",
    "- Finally, extract a column of crime counts and joined the column to `censustract`.\n",
    "\n",
    "This procedure sounds complicated. But, it can be done in 4-5 lines of code. These joining methods are very useful in processing and manipulating spatial data."
   ]
  },
  {
   "cell_type": "markdown",
   "metadata": {},
   "source": [
    "First, let's do the spatial join. The `sjoin` function in `geopandas` supports spatial join based on spatial relations.\n",
    "\n",
    "In the following code, the join dataset is the first argument in the function, followed by the destination dataset. Reverse positions will lead to a reverse join (i.e. joining polygon to points). The `op` parameter defines the spatial relation for the join, meaning the points need to completely within or on the boundary of a polygon. "
   ]
  },
  {
   "cell_type": "code",
   "execution_count": null,
   "metadata": {},
   "outputs": [],
   "source": [
    "joined = geopandas.sjoin(censustract,crime, how=\"inner\", op='intersects')"
   ]
  },
  {
   "cell_type": "markdown",
   "metadata": {},
   "source": [
    "If you are unfamiliar with a function, you can always Google the function name to find the documentation or examples. The usage of 'geopandas.sjoin' can be found [here](http://geopandas.org/mergingdata.html)"
   ]
  },
  {
   "cell_type": "markdown",
   "metadata": {},
   "source": [
    "Checking the metadata of `joined`. You can find that the number of features in `joined` (49058 features) equals the number of crime points. \n",
    "\n",
    "After the spatial join, each census tract has been duplicated for each point in the tract. In the preview of `joined`, you can find the same GEOID or AFFGEOID (the unique ID of a census tract) repeats many times.\n",
    "\n",
    "Next, you need aggregate the duplicated census tracts in `joined` by GEOID or AFFGEOID. The count of duplicated tracts with the same GEOID is numbers of crimes in the tract."
   ]
  },
  {
   "cell_type": "code",
   "execution_count": null,
   "metadata": {},
   "outputs": [],
   "source": [
    "crime_inct = joined.groupby(['GEOID']).count()"
   ]
  },
  {
   "cell_type": "markdown",
   "metadata": {},
   "source": [
    "In the metadata, you can see that `crime_inct` has 242 features, which is the same as the number of census tracts in Oahu. This means the rows in `joined` has been aggregated in the 242 census tracts.\n",
    "\n",
    "In a preview of `crime_inct`, you can see all columns have the same numbers, which are crime counts in the census tracts. However, `crime_inct` is a dataframe (no geometry). So you need to join the crime counts back to the geodataframe `censustract` for mapping and spatial analysis. This join is based on the unique IDs of census tracts (GEOID or AFFGEOID), which is attribute join.\n",
    "\n",
    "### Question 4: please write code to join crime counts to `censustract`:\n",
    "\n",
    "- 1. Extract one (any) column from `crime_inct`.\n",
    "\n",
    "- 2. Rename the extracted column to `crime`. Please check [here](https://erikrood.com/Python_References/rename_columns.html) for examples of renaming a column in a dataframe. Otherwise, you can google 'Python rename column dataframe' to find relevant pages, usually in the function documentation or stackoverflow.\n",
    "\n",
    "- 3. Join the renamed column to `censustract`, using either AFFGEOID or GEOID as the key. You can use the `merge` function of dataframe to join two tables. Description and examples of 'merge' can be found [here](https://pandas.pydata.org/pandas-docs/stable/reference/api/pandas.DataFrame.merge.html)."
   ]
  },
  {
   "cell_type": "code",
   "execution_count": 3,
   "metadata": {},
   "outputs": [],
   "source": [
    "# Get a column from crime_inct\n",
    "\n",
    "# Rename the column to 'crime'\n",
    "\n",
    "# Join crime back to censustract"
   ]
  },
  {
   "cell_type": "markdown",
   "metadata": {},
   "source": [
    "When Question 4 is done, preview `censustract` to see the difference"
   ]
  },
  {
   "cell_type": "markdown",
   "metadata": {},
   "source": [
    "### Question 5: please create a choropleth map to display crime counts in the census tracts.\n",
    "\n",
    "Tip: you can refer to Lab 5 to create choropleth map. Please use the equal interval classification method for the coloring."
   ]
  },
  {
   "cell_type": "code",
   "execution_count": null,
   "metadata": {},
   "outputs": [],
   "source": [
    "# Create a choropleth map of crime counts in census tracts"
   ]
  },
  {
   "cell_type": "markdown",
   "metadata": {},
   "source": [
    "---"
   ]
  },
  {
   "cell_type": "markdown",
   "metadata": {},
   "source": [
    "# Task 2: Attribute Join with census tract population data"
   ]
  },
  {
   "cell_type": "markdown",
   "metadata": {},
   "source": [
    "The choropleth map in Question 5 shows total the counts of crimes in the census tracts. However, a census tract with a large count  does not neccessarily mean a higher risk of crime. The total count is highly dependent on the total population in the census tract. A large census tract includes more population, which naturally have a high crime count. To eliminate the effect of population and unit size, we can calculate the crime rate, which is the crime count per 1000 population, which better indicates the probability of crime. Crime rate can be calculated by:\n",
    "\n",
    "$$\n",
    "\\begin{align*}\n",
    "CrimeRate = CrimeCount/Population*1000\n",
    "\\end{align*}\n",
    "$$"
   ]
  },
  {
   "cell_type": "markdown",
   "metadata": {},
   "source": [
    "In the previous task, we joined crime counts to `censustract`. Now we need population to calculate crime rate. In the data provided by the U.S. Census Bureau, there are hundreds of socio-economic and demographic variables reported in census tracts. For efficient data management, these variables are stored in separate tables. People can pull only the tables they need, and join the tables to other tables or geospatial data (e.g. geodataframe) using the unique IDs of census tracts.\n",
    "\n",
    "In this task, we will join the table (`pop.csv`) containing population data to `censustract` in order to calculate crime rate."
   ]
  },
  {
   "cell_type": "markdown",
   "metadata": {},
   "source": [
    "First, please write code to read the `pop.csv` in your data folder into a dataframe `pop`.\n",
    "\n",
    "Note: consider what package and function to read spreadsheet (e.g. csv). If you cannot remember, you can ask Google or previous labs."
   ]
  },
  {
   "cell_type": "code",
   "execution_count": null,
   "metadata": {
    "scrolled": true
   },
   "outputs": [],
   "source": [
    "# read pop.csv into a pandas dataframe named 'pop'"
   ]
  },
  {
   "cell_type": "markdown",
   "metadata": {},
   "source": [
    "Preview the `pop` and check the metadata "
   ]
  },
  {
   "cell_type": "code",
   "execution_count": null,
   "metadata": {},
   "outputs": [],
   "source": [
    "# preview the first 5 rows of pop"
   ]
  },
  {
   "cell_type": "code",
   "execution_count": null,
   "metadata": {},
   "outputs": [],
   "source": [
    "# check the metadata of pop"
   ]
  },
  {
   "cell_type": "markdown",
   "metadata": {},
   "source": [
    "### Question 6: Please join the population data `pop` to `censustract`.\n",
    "\n",
    "Please complete the following code to join `pop` to `censustract` and store the output in a new dataframe `censustract2`\n",
    "\n",
    "Tip: attribute join is joining data by matching keys in two tables. Consider which columns in the two tables can be used as the keys for the joining.\n",
    "\n",
    "Tip: you can refer to Task 1 about attribute join."
   ]
  },
  {
   "cell_type": "code",
   "execution_count": null,
   "metadata": {},
   "outputs": [],
   "source": [
    "# Read population from pop.csv\n",
    "\n",
    "# Join pop to censustract\n"
   ]
  },
  {
   "cell_type": "markdown",
   "metadata": {},
   "source": [
    "Now, both crime count and population are organized in `censustract2`. Please complete the following code to calculate crime rate and store it in a new column **crime_rate** in `censustract2`."
   ]
  },
  {
   "cell_type": "code",
   "execution_count": null,
   "metadata": {},
   "outputs": [],
   "source": [
    "censustract2['crime_rate'] = censustract2['crime']/censustract2['population']*1000"
   ]
  },
  {
   "cell_type": "code",
   "execution_count": null,
   "metadata": {},
   "outputs": [],
   "source": [
    "censustract2.head()"
   ]
  },
  {
   "cell_type": "markdown",
   "metadata": {},
   "source": [
    "Preview `censustract2` to see if the crime rate is stored in the new column."
   ]
  },
  {
   "cell_type": "markdown",
   "metadata": {},
   "source": [
    "As some census tract has 0 population (e.g. conservation area), the divition calculation would lead to infinite numbers (coded as `inf` in Python), which may cause problems when creating maps.\n",
    "\n",
    "The following code is converting the infinite numbers in the crime_rate column to Not-A-Number (nan)."
   ]
  },
  {
   "cell_type": "code",
   "execution_count": null,
   "metadata": {
    "scrolled": false
   },
   "outputs": [],
   "source": [
    "import numpy as np\n",
    "censustract2['crime_rate'][censustract2['crime_rate']==np.inf]=np.nan"
   ]
  },
  {
   "cell_type": "markdown",
   "metadata": {},
   "source": [
    "### Question 7: Please create a choropleth map to show crime rates in census tracts.\n",
    "\n",
    "Please visually compare this map with the map of crime counts (in Question 5). Think about the difference between mapping count and rate in polygons with irregular shapes and sizes."
   ]
  },
  {
   "cell_type": "code",
   "execution_count": null,
   "metadata": {},
   "outputs": [],
   "source": [
    "# Choropleth map of crime rates"
   ]
  },
  {
   "cell_type": "markdown",
   "metadata": {},
   "source": [
    "***"
   ]
  },
  {
   "cell_type": "markdown",
   "metadata": {},
   "source": [
    "## Task 3: Analyzing the relation between crime and income"
   ]
  },
  {
   "cell_type": "markdown",
   "metadata": {},
   "source": [
    "To analyze the relation between crime rate and income, you should join income data into the dataframe of crime rate. You have done the similar procedure in Task 2. So please write code to join income data (stored in income.csv) to censustract2."
   ]
  },
  {
   "cell_type": "markdown",
   "metadata": {},
   "source": [
    "### Question 8: Please import the income table and join it to `censustract2`"
   ]
  },
  {
   "cell_type": "markdown",
   "metadata": {},
   "source": [
    "The procedure is similar to Question 6. Please store the output of the join to a new dataframe `censustract3`.\n",
    "\n",
    "Preview `censustract3` to observe the change."
   ]
  },
  {
   "cell_type": "code",
   "execution_count": null,
   "metadata": {},
   "outputs": [],
   "source": [
    "# Read the income.csv to a dataframe income\n",
    "\n",
    "# Join income to censustract2 and output the join to censustract3"
   ]
  },
  {
   "cell_type": "markdown",
   "metadata": {},
   "source": [
    "### Question 9: Create a choropleth map of incomes in census tracts.\n",
    "\n",
    "Visually compare the map of income and the map of crime rate. Are the spatial distributions similar? Some high-income communities also have a high crime (burgalary) rate, but not always.\n",
    "\n",
    "Next, we will use some statistical methods to analyze the relation between crime rate and income."
   ]
  },
  {
   "cell_type": "code",
   "execution_count": null,
   "metadata": {},
   "outputs": [],
   "source": [
    "# Choropleth map of income"
   ]
  },
  {
   "cell_type": "markdown",
   "metadata": {},
   "source": [
    "In the choropleth maps of crime and income, you can observe the spatial patterns of the two variables. They look similar to some degree, but still different in some areas. You can use linear regression to test the relation between the two variables, examining whether the crime rate increase/decrease with the income. Analyzing relations between the variables can help understand why crime rate is high in some communities. Other than income, the method can also be used to study relations between crime and other variables (e.g. education level, demographic condition, ratio of owner-occupied property....)."
   ]
  },
  {
   "cell_type": "markdown",
   "metadata": {},
   "source": [
    "First, we create a scatter plot using crime rate and income. \n",
    "\n",
    "When creating scatter plot or linear regression, we usually use the horizontal (x) axis to represent the hypothetical cause and vertical (y) axis to represent the hypothetical effect.\n",
    "\n",
    "In this case, our hypothesis is that communities with a higher income is more or less likely to experience to crime (burglary). Thus, income should be x on the horizontal axis and crime rate should be y on the vertical axis."
   ]
  },
  {
   "cell_type": "code",
   "execution_count": null,
   "metadata": {},
   "outputs": [],
   "source": [
    "import matplotlib.pyplot as plt\n",
    "\n",
    "# enlarge the size of plot\n",
    "f, ax = plt.subplots(1, figsize=(9, 9))\n",
    "\n",
    "# create the scatter plot and \n",
    "sns.regplot(x=censustract3['per_cap_income'], y=censustract3['crime_rate'], ci=None)\n"
   ]
  },
  {
   "cell_type": "markdown",
   "metadata": {},
   "source": [
    "In general, the income and crime rate follow a linear relation, but with some deviations. The line approximately describes the trend of the relation. \n",
    "\n",
    "To test the significance of the relation, you can do a linear regression between the two variables.\n",
    "\n",
    "In python, there are many packages for linear regression. We choose the `statsmodels` package here.\n",
    "\n",
    "Note: when using this package, the y variable (dependent variable) is placed before the x (independent) variable."
   ]
  },
  {
   "cell_type": "code",
   "execution_count": null,
   "metadata": {},
   "outputs": [],
   "source": [
    "# import the package\n",
    "import statsmodels.api as sm\n",
    "\n",
    "# fit the linear regression model with income\n",
    "model = sm.OLS(censustract3['crime_rate'], censustract3['per_cap_income'],missing='drop').fit()\n",
    "\n",
    "model.summary()"
   ]
  },
  {
   "cell_type": "markdown",
   "metadata": {},
   "source": [
    "To interpret the result: \n",
    "\n",
    "As p-value<0.001, it is a high probability that the income and crime_rate follow a linear relation.\n",
    "\n",
    "Also the positive coefficient (0.0014) indicates the higher income, the higher crime rate."
   ]
  },
  {
   "cell_type": "markdown",
   "metadata": {},
   "source": [
    "---"
   ]
  },
  {
   "cell_type": "markdown",
   "metadata": {},
   "source": [
    "# Lab submission"
   ]
  },
  {
   "cell_type": "markdown",
   "metadata": {},
   "source": [
    "Please submit the Jupyter Notebook file (.ipynb) with your code, answers and maps to Laulima by **Monday, April 22th**."
   ]
  }
 ],
 "metadata": {
  "kernelspec": {
   "display_name": "Python 3",
   "language": "python",
   "name": "python3"
  },
  "language_info": {
   "codemirror_mode": {
    "name": "ipython",
    "version": 3
   },
   "file_extension": ".py",
   "mimetype": "text/x-python",
   "name": "python",
   "nbconvert_exporter": "python",
   "pygments_lexer": "ipython3",
   "version": "3.7.1"
  }
 },
 "nbformat": 4,
 "nbformat_minor": 2
}
