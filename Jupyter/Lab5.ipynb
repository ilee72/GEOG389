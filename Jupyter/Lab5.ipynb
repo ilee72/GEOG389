{
 "cells": [
  {
   "cell_type": "markdown",
   "metadata": {},
   "source": [
    "# Exploratory Analysis of Spatial Data: Spatial Autocorrelation #\n",
    "\n",
    "\n",
    "In this lab we will practise to analyze global and local spatial autocorrelation to analyze spatial data.\n",
    "\n",
    "The analyses of spatial autocorrelation are also called Exploratory Spatial Data Analysis (ESDA).\n",
    "\n",
    "This lab is modified from the [tutorial of pysal ESDA](https://pysal.org/)."
   ]
  },
  {
   "cell_type": "markdown",
   "metadata": {},
   "source": [
    "#### Before the lab, please install the python module esda and splot.\n",
    "\n",
    "Open anaconda prompt in your start menu as an administrator user. \n",
    "\n",
    "Remember to open the right version (Anaconda 3.6) if you have multiple anaconda installed.\n",
    "\n",
    "Install the module **esda** and **splot** by typing the following command\n",
    "    - pip install esda\n",
    "    - pip install splot"
   ]
  },
  {
   "cell_type": "markdown",
   "metadata": {},
   "source": [
    "#### Import python modules needed for this lab"
   ]
  },
  {
   "cell_type": "code",
   "execution_count": null,
   "metadata": {},
   "outputs": [],
   "source": [
    "import esda\n",
    "import geopandas as gpd\n",
    "import libpysal\n",
    "from libpysal import examples\n",
    "import numpy as np\n",
    "import matplotlib.pyplot as plt\n",
    "import mapclassify as mc\n",
    "import pysal\n",
    "\n",
    "from splot.libpysal import plot_spatial_weights\n",
    "from libpysal.weights.contiguity import Queen, Rook\n",
    "\n",
    "%matplotlib inline\n",
    "plt.rcParams['figure.figsize'] = [10, 8]"
   ]
  },
  {
   "cell_type": "markdown",
   "metadata": {},
   "source": [
    "## Download Data\n",
    "\n",
    "Please download the data from [here](https://drive.google.com/file/d/1k_KF_C7muXAdcRH1FSPhVpBH8mv-ANfs/view?usp=sharing). and extract it to a local folder in your computer.\n",
    "\n",
    "Please change the file path accordingly."
   ]
  },
  {
   "cell_type": "markdown",
   "metadata": {},
   "source": [
    "## Spatial Weight Matrix"
   ]
  },
  {
   "cell_type": "markdown",
   "metadata": {},
   "source": [
    "Load the dataset `nbr.shp` into a `geopandas` geodataframe."
   ]
  },
  {
   "cell_type": "code",
   "execution_count": null,
   "metadata": {
    "scrolled": true
   },
   "outputs": [],
   "source": [
    "gdf = gpd.read_file('C:/Users/yi/Documents/UH_work/Teaching/GEOG389/labs/lab5_data/texas.shp')"
   ]
  },
  {
   "cell_type": "markdown",
   "metadata": {},
   "source": [
    "Print the first 5 rows of the data frame"
   ]
  },
  {
   "cell_type": "code",
   "execution_count": null,
   "metadata": {},
   "outputs": [],
   "source": []
  },
  {
   "cell_type": "markdown",
   "metadata": {},
   "source": [
    "Plot the shapefile"
   ]
  },
  {
   "cell_type": "code",
   "execution_count": null,
   "metadata": {},
   "outputs": [],
   "source": [
    "gdf.plot()"
   ]
  },
  {
   "cell_type": "markdown",
   "metadata": {},
   "source": [
    "As you learned in class, neighborhoods (nearness) can be defined by contiguity, distance threshold (binary) or distance decay function (continuous).\n",
    "\n",
    "The following codes generate spatial weight matrix using queen contiguity. \n",
    "\n",
    "![](images/fig14.jpg)"
   ]
  },
  {
   "cell_type": "code",
   "execution_count": null,
   "metadata": {
    "scrolled": true
   },
   "outputs": [],
   "source": [
    "wq = Queen.from_dataframe(gdf)"
   ]
  },
  {
   "cell_type": "markdown",
   "metadata": {},
   "source": [
    "Print the weights of each polygon"
   ]
  },
  {
   "cell_type": "code",
   "execution_count": null,
   "metadata": {},
   "outputs": [],
   "source": [
    "wq.weights"
   ]
  },
  {
   "cell_type": "markdown",
   "metadata": {},
   "source": [
    "print the neighbors of each polygon"
   ]
  },
  {
   "cell_type": "code",
   "execution_count": null,
   "metadata": {},
   "outputs": [],
   "source": [
    "wq.neighbors"
   ]
  },
  {
   "cell_type": "markdown",
   "metadata": {},
   "source": [
    "Standardize the weight matrix by rows"
   ]
  },
  {
   "cell_type": "code",
   "execution_count": null,
   "metadata": {},
   "outputs": [],
   "source": [
    "wq.transform='r'"
   ]
  },
  {
   "cell_type": "code",
   "execution_count": null,
   "metadata": {},
   "outputs": [],
   "source": [
    "wq.weights"
   ]
  },
  {
   "cell_type": "markdown",
   "metadata": {},
   "source": [
    "#### Plotting the neighborhood relations as a network\n",
    "The map below show the neighborhood relations between the polygons (ciby boundaries) by lines linking their centroids. Polygons that are neighbors to each other are linked."
   ]
  },
  {
   "cell_type": "code",
   "execution_count": null,
   "metadata": {
    "scrolled": false
   },
   "outputs": [],
   "source": [
    "plot_spatial_weights(wq, gdf)\n",
    "plt.show()"
   ]
  },
  {
   "cell_type": "markdown",
   "metadata": {},
   "source": [
    "---\n",
    "\n",
    "# Question 1\n",
    "\n",
    "Please create a plot showing the neighborhood network based on the rook contiguity."
   ]
  },
  {
   "cell_type": "code",
   "execution_count": null,
   "metadata": {
    "scrolled": true
   },
   "outputs": [],
   "source": [
    "wr = Rook.from_dataframe(gdf)\n",
    "plot_spatial_weights(wr, gdf)\n",
    "plt.show()"
   ]
  },
  {
   "cell_type": "markdown",
   "metadata": {},
   "source": [
    "---\n",
    "\n",
    "## Preview the Berlin airbnb dataset"
   ]
  },
  {
   "cell_type": "markdown",
   "metadata": {},
   "source": [
    "Load the polygon shapefile of Berline neighborhoods. "
   ]
  },
  {
   "cell_type": "code",
   "execution_count": null,
   "metadata": {},
   "outputs": [],
   "source": [
    "gdf = gpd.read_file('C:/Users/yi/Documents/UH_work/Teaching/GEOG389/labs/lab5_data/nbr.shp')"
   ]
  },
  {
   "cell_type": "markdown",
   "metadata": {},
   "source": [
    "The data set comes from the Berlin airbnb scrape taken in April 2018. This dataframe was constructed as part of the [GeoPython 2018 workshop](https://github.com/ljwolf/geopython) by Levi Wolf and Serge Rey. As part of the workshop a geopandas data frame was constructed with one of the columns reporting the median listing price of units in each neighborhood in Berlin:\n",
    "\n",
    "\n",
    "The attribute `median_pri` stores the listing price of airbnb the neighborhoods (in EUROs)"
   ]
  },
  {
   "cell_type": "code",
   "execution_count": null,
   "metadata": {},
   "outputs": [],
   "source": [
    "gdf.head(10)"
   ]
  },
  {
   "cell_type": "markdown",
   "metadata": {},
   "source": [
    "Create a histogram to see the distribution of the airbnb prices."
   ]
  },
  {
   "cell_type": "code",
   "execution_count": null,
   "metadata": {},
   "outputs": [],
   "source": [
    "gdf.hist(bins=20)"
   ]
  },
  {
   "cell_type": "markdown",
   "metadata": {},
   "source": [
    "Next, we will plot the median airbnb price (`median_pri`) in a choropleth map."
   ]
  },
  {
   "cell_type": "code",
   "execution_count": null,
   "metadata": {},
   "outputs": [],
   "source": [
    "gdf.plot(column='median_pri')"
   ]
  },
  {
   "cell_type": "markdown",
   "metadata": {},
   "source": [
    "Plot using quantiles classification and green-blue color scheme. [Other color schemes](https://matplotlib.org/tutorials/colors/colormaps.html)"
   ]
  },
  {
   "cell_type": "code",
   "execution_count": null,
   "metadata": {
    "scrolled": true
   },
   "outputs": [],
   "source": [
    "gdf.plot(column='median_pri', scheme='quantiles', k=5, cmap='GnBu', legend=True)\n",
    "\n",
    "# gdf.plot(column='median_pri', scheme='equal_interval', k=5, cmap='OrRd', legend=True)"
   ]
  },
  {
   "cell_type": "markdown",
   "metadata": {},
   "source": [
    "## Spatial Autocorrelation"
   ]
  },
  {
   "cell_type": "markdown",
   "metadata": {},
   "source": [
    "The choropleth map allows us to visually observe spatial pattern. If the spatial distribution of the prices was random, then we should not see any clustering of similar values on the map. However, our visual system is drawn to the darker clusters in the south west as well as the center, and a concentration of the lighter hues (lower prices) in the north central and south east.\n",
    "\n",
    "Our brains are very powerful pattern recognition machines. However, sometimes they can be too powerful and lead us to detect false positives, or patterns where there are no statistical patterns. This is a particular concern when dealing with visualization of irregular polygons of differning sizes and shapes.\n",
    "\n",
    "The concept of spatial autocorrelation relates to the combination of two types of similarity: spatial similarity and attribute similarity. Although there are many different measures of spatial autocorrelation, they all combine these two types of simmilarity into a summary measure.\n",
    "\n",
    "Let's use PySAL to generate these two types of similarity measures."
   ]
  },
  {
   "cell_type": "markdown",
   "metadata": {},
   "source": [
    "# Spatial Similarity"
   ]
  },
  {
   "cell_type": "markdown",
   "metadata": {},
   "source": [
    "We have already encountered spatial weights in a previous notebook. In spatial autocorrelation analysis, the spatial weights are used to formalize the notion of spatial similarity (whether things are located near each other).\n",
    "\n",
    "![](images/fig15.jpg)"
   ]
  },
  {
   "cell_type": "markdown",
   "metadata": {},
   "source": [
    "Get the attribute of median price"
   ]
  },
  {
   "cell_type": "code",
   "execution_count": null,
   "metadata": {},
   "outputs": [],
   "source": [
    "y = gdf['median_pri']"
   ]
  },
  {
   "cell_type": "markdown",
   "metadata": {},
   "source": [
    "Create a spatial weight matrix based on queen contiguity."
   ]
  },
  {
   "cell_type": "code",
   "execution_count": null,
   "metadata": {},
   "outputs": [],
   "source": [
    "wq =  lps.weights.Queen.from_dataframe(gdf)\n",
    "wq.transform = 'r'"
   ]
  },
  {
   "cell_type": "markdown",
   "metadata": {},
   "source": [
    "Calculate the spatial lag of `median_pri`, which are averages of airbnb prices of the neighbors."
   ]
  },
  {
   "cell_type": "code",
   "execution_count": null,
   "metadata": {},
   "outputs": [],
   "source": [
    "ylag = lps.weights.lag_spatial(wq, y)\n",
    "\n",
    "gdf['lag_median_pri'] = ylag"
   ]
  },
  {
   "cell_type": "markdown",
   "metadata": {},
   "source": [
    "Plot the spatial lags of polygons (neighborhoods) in Berlin.\n",
    "\n",
    "The following plot shows the spatial lags in each polygon. The dark polygons are places where the average airbnb price in the neighborhood is high."
   ]
  },
  {
   "cell_type": "code",
   "execution_count": null,
   "metadata": {},
   "outputs": [],
   "source": [
    "f, ax = plt.subplots(1, figsize=(9, 9))\n",
    "gdf.plot(column='lag_median_pri', scheme='quantiles', k=5, cmap='OrRd', legend=True, ax=ax)\n",
    "plt.title(\"Spatial Lag Median Price (Quintiles)\")\n",
    "\n",
    "plt.show()"
   ]
  },
  {
   "cell_type": "markdown",
   "metadata": {},
   "source": [
    "The quintile map for the spatial lag tends to enhance the impression of value similarity in space. It is, in effect, a local smoother."
   ]
  },
  {
   "cell_type": "markdown",
   "metadata": {},
   "source": [
    "The following code plots the prices and the spatial lags of median price."
   ]
  },
  {
   "cell_type": "code",
   "execution_count": null,
   "metadata": {},
   "outputs": [],
   "source": [
    "f,ax = plt.subplots(1,2,figsize=(2.16*4,4))\n",
    "gdf.plot(column='median_pri', ax=ax[0], edgecolor='k',scheme=\"quantiles\",  k=5, cmap='GnBu')\n",
    "ax[0].axis(gdf.total_bounds[np.asarray([0,2,1,3])])\n",
    "ax[0].set_title(\"Price\")\n",
    "\n",
    "\n",
    "gdf.plot(column='lag_median_pri', ax=ax[1], edgecolor='k',scheme='quantiles', cmap='GnBu', k=5)\n",
    "ax[1].axis(gdf.total_bounds[np.asarray([0,2,1,3])])\n",
    "ax[1].set_title(\"Spatial Lag Price\")\n",
    "\n",
    "ax[0].axis('off')\n",
    "ax[1].axis('off')\n",
    "plt.show()"
   ]
  },
  {
   "cell_type": "markdown",
   "metadata": {},
   "source": [
    "## Global Spatial Autocorrelation"
   ]
  },
  {
   "cell_type": "markdown",
   "metadata": {},
   "source": [
    "From the above fiture we can observe that the spatial distributions of the variable (price) and the spatial lag of the variable are similar, both clustered in city center. \n",
    "\n",
    "From the observation, you can infer a linear relationship between the variable and the spatial lag. The slope of the linear regression line is global spatial autocorrelation.\n",
    "\n",
    "![](images/fig16.jpg)"
   ]
  },
  {
   "cell_type": "markdown",
   "metadata": {},
   "source": [
    "Get the columns of median prices and spatial lags of median prices"
   ]
  },
  {
   "cell_type": "code",
   "execution_count": null,
   "metadata": {},
   "outputs": [],
   "source": [
    "price = gdf['median_pri']\n",
    "lag_price = gdf['lag_median_pri']"
   ]
  },
  {
   "cell_type": "markdown",
   "metadata": {},
   "source": [
    "Fit `price` (x: independent variable) and `lag_price` (y: dependent variable) in a linear equation (y=b*x+e)\n",
    "\n",
    "b is the coefficient (the slope of the regression line) and e is the residual."
   ]
  },
  {
   "cell_type": "code",
   "execution_count": null,
   "metadata": {},
   "outputs": [],
   "source": [
    "b, e = np.polyfit(price, lag_price, 1)"
   ]
  },
  {
   "cell_type": "markdown",
   "metadata": {},
   "source": [
    "Plot the scatter plot between the prices and the spatial lags of the prices.\n",
    "\n",
    "Two lines are added to partition the scatter plot into four quadrats."
   ]
  },
  {
   "cell_type": "code",
   "execution_count": null,
   "metadata": {},
   "outputs": [],
   "source": [
    "f, ax = plt.subplots(1, figsize=(9, 9))\n",
    "\n",
    "plt.plot(price, lag_price, '.', color='firebrick')\n",
    "\n",
    " # dashed vert at mean of the price\n",
    "plt.vlines(price.mean(), lag_price.min(), lag_price.max(), linestyle='--')\n",
    " # dashed horizontal at mean of lagged price \n",
    "plt.hlines(lag_price.mean(), price.min(), price.max(), linestyle='--')\n",
    "\n",
    "# red line of best fit using global I as slope\n",
    "plt.plot(price, e + b*price, 'r')\n",
    "plt.title('Moran Scatterplot')\n",
    "plt.ylabel('Spatial Lag of Price')\n",
    "plt.xlabel('Price')\n",
    "plt.show()"
   ]
  },
  {
   "cell_type": "markdown",
   "metadata": {},
   "source": [
    "The spatial autocorrelation is indicated by the slope of the regression line (i.e. b)\n",
    "\n",
    "The four quadrats in the scatter plot indicates High-High (top-right), Low-Low (bottom-left), High-Low (top-right), and Low-High (bottom-left) polygons."
   ]
  },
  {
   "cell_type": "markdown",
   "metadata": {},
   "source": [
    "Instead of calculating the coefficient `b` in a linear regression model, we can use the `moran.Moran` function in the `esda` package to calculate Moran's I"
   ]
  },
  {
   "cell_type": "code",
   "execution_count": null,
   "metadata": {},
   "outputs": [],
   "source": [
    "mi = esda.moran.Moran(gdf['median_pri'], wq)"
   ]
  },
  {
   "cell_type": "code",
   "execution_count": null,
   "metadata": {},
   "outputs": [],
   "source": [
    "mi.I"
   ]
  },
  {
   "cell_type": "markdown",
   "metadata": {},
   "source": [
    "The p-value of Moran's I. \n",
    "\n",
    "Can be interpreted as the probability that the spatial pattern of the prices is random.\n",
    "\n",
    "The smaller the p-value is, the more significant the test is."
   ]
  },
  {
   "cell_type": "code",
   "execution_count": null,
   "metadata": {},
   "outputs": [],
   "source": [
    "mi.p_sim"
   ]
  },
  {
   "cell_type": "markdown",
   "metadata": {},
   "source": [
    "Comparing the Moran's I of the housing price with the distribution of random simulation.\n",
    "\n",
    "As can be observed in the histogram, the Moran's I of the housing prices is positively deviated from the mean of the random distribution, indicating the spatial autocorrelation is positive (a clustered pattern)."
   ]
  },
  {
   "cell_type": "code",
   "execution_count": null,
   "metadata": {},
   "outputs": [],
   "source": [
    "import seaborn as sbn\n",
    "sbn.kdeplot(mi.sim, shade=True)\n",
    "plt.vlines(mi.I, 0, 1, color='r')\n",
    "plt.vlines(mi.EI, 0,1)\n",
    "plt.xlabel(\"Moran's I\")"
   ]
  },
  {
   "cell_type": "markdown",
   "metadata": {},
   "source": [
    "## Local Autocorrelation: Hot Spots, Cold Spots, and Spatial Outliers"
   ]
  },
  {
   "cell_type": "markdown",
   "metadata": {},
   "source": [
    "The global spatial autocorrelation describes the overal spatial pattern in the entire study area. However, you can observe heterogenous pattersns at different local areas. Some places are clustered, some places are dispersed, some are like random.\n",
    "\n",
    "Moran's I can be calculated in the focal area centered at each polygon, considering the spatial autocorrelation in the neighborhood of the polygon."
   ]
  },
  {
   "cell_type": "markdown",
   "metadata": {},
   "source": [
    "Calculate local Moran's I:"
   ]
  },
  {
   "cell_type": "code",
   "execution_count": null,
   "metadata": {},
   "outputs": [],
   "source": [
    "lmi = esda.moran.Moran_Local(y, wq)"
   ]
  },
  {
   "cell_type": "markdown",
   "metadata": {},
   "source": [
    "Print which quadrant does each polygon is located. (1:HH, 2:LH, 3:LL, 4:HL)"
   ]
  },
  {
   "cell_type": "code",
   "execution_count": null,
   "metadata": {
    "scrolled": true
   },
   "outputs": [],
   "source": [
    "li.q"
   ]
  },
  {
   "cell_type": "markdown",
   "metadata": {},
   "source": [
    "Calculate the p-value of Local Moran's I."
   ]
  },
  {
   "cell_type": "code",
   "execution_count": null,
   "metadata": {},
   "outputs": [],
   "source": [
    "li.p_sim"
   ]
  },
  {
   "cell_type": "markdown",
   "metadata": {},
   "source": [
    "Classify the polygons into four types of patterns. \n",
    "\n",
    "Only polygons where p < 0.05 are considered significant."
   ]
  },
  {
   "cell_type": "code",
   "execution_count": null,
   "metadata": {},
   "outputs": [],
   "source": [
    "hotspot = gdf[(li.p_sim<0.05) & (li.q==1)]\n",
    "coldspot = gdf[(li.p_sim<0.05) & (li.q==3)]\n",
    "low_high = gdf[(li.p_sim<0.05) & (li.q==2)]\n",
    "high_low = gdf[(li.p_sim<0.05) & (li.q==4)]"
   ]
  },
  {
   "cell_type": "markdown",
   "metadata": {},
   "source": [
    "Plot the hot spots.\n",
    "\n",
    "[Color codes of matplotlib](https://matplotlib.org/2.0.0/examples/color/named_colors.html)."
   ]
  },
  {
   "cell_type": "code",
   "execution_count": null,
   "metadata": {
    "scrolled": false
   },
   "outputs": [],
   "source": [
    "from matplotlib import colors\n",
    "f, ax = plt.subplots(1, figsize=(9, 9))\n",
    "\n",
    "gdf.plot(color='lightgray',ax=ax)\n",
    "coldspot.plot(color='red',ax=ax)"
   ]
  },
  {
   "cell_type": "markdown",
   "metadata": {},
   "source": [
    "---"
   ]
  },
  {
   "cell_type": "markdown",
   "metadata": {},
   "source": [
    "## Question 2\n",
    "\n",
    "Following the instruction, create a plot to show cold spots (Low-Low), low-high, and high-low polygons in four different maps.\n",
    "\n",
    "Please assign color in the following way:\n",
    " - cold spots: blue\n",
    " - low-high: lightblue\n",
    " - high-low: pink"
   ]
  },
  {
   "cell_type": "markdown",
   "metadata": {},
   "source": [
    "## Question 3\n",
    "\n",
    "Plot the four types of spatial patterns (hot spot, cold spots, low-high, and high-low) in a single map.\n",
    "\n",
    "Please assign color in the following way:\n",
    " - hot spots: red\n",
    " - cold spots: blue\n",
    " - low-high: lightblue\n",
    " - high-low: pink"
   ]
  }
 ],
 "metadata": {
  "kernelspec": {
   "display_name": "Python 3",
   "language": "python",
   "name": "python3"
  },
  "language_info": {
   "codemirror_mode": {
    "name": "ipython",
    "version": 3
   },
   "file_extension": ".py",
   "mimetype": "text/x-python",
   "name": "python",
   "nbconvert_exporter": "python",
   "pygments_lexer": "ipython3",
   "version": "3.7.1"
  }
 },
 "nbformat": 4,
 "nbformat_minor": 2
}
