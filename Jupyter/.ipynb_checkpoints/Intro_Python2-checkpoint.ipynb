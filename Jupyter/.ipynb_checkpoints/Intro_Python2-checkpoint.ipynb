{
 "cells": [
  {
   "cell_type": "markdown",
   "metadata": {
    "nbpresent": {
     "id": "c6bfb25d-e7a8-4c64-a4b0-2addfae63bd0"
    }
   },
   "source": [
    "# Geospatial Data Analytics (GEOG 389)\n",
    "\n",
    "Introduction to Python 2\n",
    "\n",
    "<br>\n",
    "Instructor: Yi Qiang\n",
    "\n",
    "Email: yi.qiang@hawaii.edu\n"
   ]
  },
  {
   "cell_type": "markdown",
   "metadata": {
    "nbpresent": {
     "id": "fa7f65ee-f09b-4916-8dd9-e93a852dfab9"
    }
   },
   "source": [
    "# Recap of the previous class\n",
    "\n",
    "### Variables\n",
    "What will be the output of the following code?"
   ]
  },
  {
   "cell_type": "code",
   "execution_count": 1,
   "metadata": {
    "scrolled": true
   },
   "outputs": [
    {
     "ename": "TypeError",
     "evalue": "unsupported operand type(s) for +: 'int' and 'str'",
     "output_type": "error",
     "traceback": [
      "\u001b[1;31m---------------------------------------------------------------------------\u001b[0m",
      "\u001b[1;31mTypeError\u001b[0m                                 Traceback (most recent call last)",
      "\u001b[1;32m<ipython-input-1-c9f9e00680a2>\u001b[0m in \u001b[0;36m<module>\u001b[1;34m()\u001b[0m\n\u001b[0;32m      1\u001b[0m \u001b[0ma\u001b[0m \u001b[1;33m=\u001b[0m \u001b[1;36m3\u001b[0m\u001b[1;33m\u001b[0m\u001b[0m\n\u001b[0;32m      2\u001b[0m \u001b[0mb\u001b[0m \u001b[1;33m=\u001b[0m \u001b[1;34m\"hello\"\u001b[0m\u001b[1;33m\u001b[0m\u001b[0m\n\u001b[1;32m----> 3\u001b[1;33m \u001b[0mc\u001b[0m \u001b[1;33m=\u001b[0m \u001b[0ma\u001b[0m \u001b[1;33m+\u001b[0m \u001b[0mb\u001b[0m\u001b[1;33m\u001b[0m\u001b[0m\n\u001b[0m\u001b[0;32m      4\u001b[0m \u001b[0mprint\u001b[0m \u001b[1;33m(\u001b[0m\u001b[0mc\u001b[0m\u001b[1;33m)\u001b[0m\u001b[1;33m\u001b[0m\u001b[0m\n",
      "\u001b[1;31mTypeError\u001b[0m: unsupported operand type(s) for +: 'int' and 'str'"
     ]
    }
   ],
   "source": [
    "a = 3\n",
    "b = \"hello\"\n",
    "c = a + b\n",
    "print (c)"
   ]
  },
  {
   "cell_type": "code",
   "execution_count": 3,
   "metadata": {},
   "outputs": [
    {
     "data": {
      "text/plain": [
       "9"
      ]
     },
     "execution_count": 3,
     "metadata": {},
     "output_type": "execute_result"
    }
   ],
   "source": [
    "3**2"
   ]
  },
  {
   "cell_type": "code",
   "execution_count": 4,
   "metadata": {},
   "outputs": [
    {
     "data": {
      "text/plain": [
       "False"
      ]
     },
     "execution_count": 4,
     "metadata": {},
     "output_type": "execute_result"
    }
   ],
   "source": [
    "a = 100\n",
    "b = a + 1\n",
    "a > b"
   ]
  },
  {
   "cell_type": "code",
   "execution_count": 5,
   "metadata": {
    "collapsed": true
   },
   "outputs": [],
   "source": [
    "a = [\"Hello\",\"World\", \"2019\"]"
   ]
  },
  {
   "cell_type": "code",
   "execution_count": 7,
   "metadata": {},
   "outputs": [
    {
     "data": {
      "text/plain": [
       "'World'"
      ]
     },
     "execution_count": 7,
     "metadata": {},
     "output_type": "execute_result"
    }
   ],
   "source": [
    "a[1]"
   ]
  },
  {
   "cell_type": "code",
   "execution_count": 8,
   "metadata": {},
   "outputs": [
    {
     "data": {
      "text/plain": [
       "'World'"
      ]
     },
     "execution_count": 8,
     "metadata": {},
     "output_type": "execute_result"
    }
   ],
   "source": [
    "a[-2]"
   ]
  },
  {
   "cell_type": "code",
   "execution_count": 9,
   "metadata": {
    "scrolled": true
   },
   "outputs": [
    {
     "data": {
      "text/plain": [
       "'r'"
      ]
     },
     "execution_count": 9,
     "metadata": {},
     "output_type": "execute_result"
    }
   ],
   "source": [
    "a[-2][2]"
   ]
  },
  {
   "cell_type": "markdown",
   "metadata": {},
   "source": [
    "### Variables\n",
    "- String: a non-editable list of characters\n",
    "- List: a editable list of any objects (integer, double, string, list)"
   ]
  },
  {
   "cell_type": "code",
   "execution_count": 3,
   "metadata": {},
   "outputs": [
    {
     "ename": "SyntaxError",
     "evalue": "invalid syntax (<ipython-input-3-af3065a74959>, line 1)",
     "output_type": "error",
     "traceback": [
      "\u001b[1;36m  File \u001b[1;32m\"<ipython-input-3-af3065a74959>\"\u001b[1;36m, line \u001b[1;32m1\u001b[0m\n\u001b[1;33m    Define a string variable\u001b[0m\n\u001b[1;37m           ^\u001b[0m\n\u001b[1;31mSyntaxError\u001b[0m\u001b[1;31m:\u001b[0m invalid syntax\n"
     ]
    }
   ],
   "source": [
    "Define a string variable"
   ]
  },
  {
   "cell_type": "code",
   "execution_count": 1,
   "metadata": {},
   "outputs": [
    {
     "data": {
      "text/plain": [
       "str"
      ]
     },
     "execution_count": 1,
     "metadata": {},
     "output_type": "execute_result"
    }
   ],
   "source": [
    "a = 'string'\n",
    "type(a)"
   ]
  },
  {
   "cell_type": "markdown",
   "metadata": {},
   "source": [
    "Try to change the first element to 'S'"
   ]
  },
  {
   "cell_type": "code",
   "execution_count": 2,
   "metadata": {},
   "outputs": [
    {
     "ename": "TypeError",
     "evalue": "'str' object does not support item assignment",
     "output_type": "error",
     "traceback": [
      "\u001b[1;31m---------------------------------------------------------------------------\u001b[0m",
      "\u001b[1;31mTypeError\u001b[0m                                 Traceback (most recent call last)",
      "\u001b[1;32m<ipython-input-2-cf631ea4c9de>\u001b[0m in \u001b[0;36m<module>\u001b[1;34m()\u001b[0m\n\u001b[1;32m----> 1\u001b[1;33m \u001b[0ma\u001b[0m\u001b[1;33m[\u001b[0m\u001b[1;36m0\u001b[0m\u001b[1;33m]\u001b[0m\u001b[1;33m=\u001b[0m\u001b[1;34m'S'\u001b[0m\u001b[1;33m\u001b[0m\u001b[0m\n\u001b[0m",
      "\u001b[1;31mTypeError\u001b[0m: 'str' object does not support item assignment"
     ]
    }
   ],
   "source": [
    "a[0]='S'"
   ]
  },
  {
   "cell_type": "code",
   "execution_count": 7,
   "metadata": {
    "scrolled": true
   },
   "outputs": [
    {
     "name": "stdout",
     "output_type": "stream",
     "text": [
      "['l', 'i', 's', 't']\n"
     ]
    }
   ],
   "source": [
    "ls = ['l','i','s','t']\n",
    "print(ls)"
   ]
  },
  {
   "cell_type": "markdown",
   "metadata": {},
   "source": [
    "Change the first element to 'L'"
   ]
  },
  {
   "cell_type": "code",
   "execution_count": null,
   "metadata": {
    "collapsed": true
   },
   "outputs": [],
   "source": []
  },
  {
   "cell_type": "markdown",
   "metadata": {
    "nbpresent": {
     "id": "3c190f66-5b29-424b-8346-c05b8ec8999f"
    }
   },
   "source": [
    "## 1.4 Control Flow Statements\n",
    "#### \"*if*\"Statement\n",
    "* Do different things according to if certain conditions hold true.\n",
    "* You can use multiple conditions"
   ]
  },
  {
   "cell_type": "code",
   "execution_count": 10,
   "metadata": {},
   "outputs": [
    {
     "data": {
      "text/plain": [
       "True"
      ]
     },
     "execution_count": 10,
     "metadata": {},
     "output_type": "execute_result"
    }
   ],
   "source": [
    "1 < 3"
   ]
  },
  {
   "cell_type": "markdown",
   "metadata": {},
   "source": [
    "Decide how much you pay for car insurance"
   ]
  },
  {
   "cell_type": "code",
   "execution_count": 19,
   "metadata": {
    "scrolled": false
   },
   "outputs": [
    {
     "name": "stdout",
     "output_type": "stream",
     "text": [
      "What is your name? 30\n"
     ]
    }
   ],
   "source": [
    "Age = input(\"What is your name? \")"
   ]
  },
  {
   "cell_type": "code",
   "execution_count": 20,
   "metadata": {
    "nbpresent": {
     "id": "ed109401-9406-4470-b3f8-632e92e35c22"
    }
   },
   "outputs": [
    {
     "name": "stdout",
     "output_type": "stream",
     "text": [
      "Your insurance quote is $ 1000\n"
     ]
    }
   ],
   "source": [
    "if int(Age) < 25:\n",
    "    print ('Your insurance quote is: $ 2000')\n",
    "elif int(Age) > 25: \n",
    "    print ('Your insurance quote is $ 1000')\n",
    "else:\n",
    "    print('Please talk to your representative')"
   ]
  },
  {
   "cell_type": "markdown",
   "metadata": {
    "nbpresent": {
     "id": "51d52a2b-2789-47c8-beb2-e23c4d71883a"
    }
   },
   "source": [
    "**Note**: the conditions should be exclusive to each other\n",
    "\n",
    "If more than one condition are true, the program do things in the first condition\n",
    "\n",
    "**Note**: use '`:`' after the if, elif and else conditions. Indentation should be added in front of the action code in each condition. \n"
   ]
  },
  {
   "cell_type": "code",
   "execution_count": null,
   "metadata": {
    "collapsed": true,
    "nbpresent": {
     "id": "4efdd805-d456-42da-968c-7f0ddce4725b"
    }
   },
   "outputs": [],
   "source": [
    "x = int(input(\"Please enter an integer: \"))\n",
    "\n",
    "if x <5:\n",
    "    print ('x is smaller than 5')\n",
    "elif x>3:\n",
    "    print ('x is greater than 3')"
   ]
  },
  {
   "cell_type": "markdown",
   "metadata": {
    "nbpresent": {
     "id": "4bde1a70-27a2-4da3-9cca-ab0119b82b48"
    }
   },
   "source": [
    "#### '*for*' statement\n",
    "Iterate through every element in a list"
   ]
  },
  {
   "cell_type": "code",
   "execution_count": null,
   "metadata": {
    "collapsed": true
   },
   "outputs": [],
   "source": [
    "words = ['cat', 'window', 'defenestrate'] # Create a list of 3 strings\n",
    "for letter in words:\n",
    "    print(letter,len(letter))"
   ]
  },
  {
   "cell_type": "markdown",
   "metadata": {},
   "source": [
    "Use the `range()` function to define a sequence of number and use `for` to loop through all the numbers.\n",
    "\n",
    "**Note**: the list start from the first_index to the last_index - 1."
   ]
  },
  {
   "cell_type": "code",
   "execution_count": 26,
   "metadata": {},
   "outputs": [
    {
     "name": "stdout",
     "output_type": "stream",
     "text": [
      "1\n",
      "2\n",
      "3\n",
      "4\n",
      "5\n",
      "6\n",
      "7\n",
      "8\n",
      "9\n"
     ]
    }
   ],
   "source": [
    "for i in range(1,10): # range defines a list from 1 to 10\n",
    "    print(i)"
   ]
  },
  {
   "cell_type": "code",
   "execution_count": null,
   "metadata": {
    "collapsed": true
   },
   "outputs": [],
   "source": [
    "Alternatively, you can loop through numbers in a specific interval"
   ]
  },
  {
   "cell_type": "code",
   "execution_count": 33,
   "metadata": {},
   "outputs": [
    {
     "name": "stdout",
     "output_type": "stream",
     "text": [
      "1\n",
      "3\n",
      "5\n",
      "7\n",
      "9\n"
     ]
    }
   ],
   "source": [
    "for i in range(1,10,2): # range defines a list from 1 to 10\n",
    "    print(i)"
   ]
  },
  {
   "cell_type": "markdown",
   "metadata": {
    "nbpresent": {
     "id": "6a76bebc-f9c0-4f97-b142-61ab8ad01a22"
    }
   },
   "source": [
    "#### '*while*' statement\n",
    "Repeat the same action if the condition hold true"
   ]
  },
  {
   "cell_type": "code",
   "execution_count": null,
   "metadata": {
    "collapsed": true
   },
   "outputs": [],
   "source": [
    "a = 0\n",
    "while a < 10: # if a is smaller than b, repeat the following action\n",
    "    print a\n",
    "    a = a + 1"
   ]
  },
  {
   "cell_type": "markdown",
   "metadata": {
    "nbpresent": {
     "id": "ba951809-995a-40ec-832c-11f4bd28d7e4"
    }
   },
   "source": [
    "## 1.5 Function\n",
    "* A function is a block of organized, reusable code that is used to perform a single, related action. \n",
    "* A function typically takes some input variables/parameters and produce output (but not necessarily).\n",
    "* Python function is represented as 'Function(ARG1,ARG2,...)'\n",
    "* All geoprocessing tools in arcpy are functions."
   ]
  },
  {
   "cell_type": "markdown",
   "metadata": {},
   "source": [
    "#### Declare a function\n",
    "Declare a function calculate the summation of two input variables"
   ]
  },
  {
   "cell_type": "code",
   "execution_count": 35,
   "metadata": {
    "collapsed": true
   },
   "outputs": [],
   "source": [
    "def sumProblemString(x, y):\n",
    "    sum = x + y # Calculate the sum of the input\n",
    "    return sum # Return the sum as output of the function"
   ]
  },
  {
   "cell_type": "markdown",
   "metadata": {},
   "source": [
    "#### Call the function\n",
    "Arrange input variables in () in the same order as declared "
   ]
  },
  {
   "cell_type": "code",
   "execution_count": 36,
   "metadata": {},
   "outputs": [
    {
     "name": "stdout",
     "output_type": "stream",
     "text": [
      "266955\n"
     ]
    }
   ],
   "source": [
    "output = sumProblemString (243532,23423)\n",
    "print(output)"
   ]
  },
  {
   "cell_type": "markdown",
   "metadata": {},
   "source": [
    "Another example: Calculate your BMI according to your weight and height"
   ]
  },
  {
   "cell_type": "code",
   "execution_count": 11,
   "metadata": {
    "collapsed": true
   },
   "outputs": [],
   "source": [
    "def WeightCalc(weight,height):\n",
    "    w_kg=float(weight)*0.45 # Convert your weight in lb to kg\n",
    "    h_m=float(height)*0.025 # Convert your height in inch to meter \n",
    "    BMI=w_kg/(h_m**2) # Calculate BMI\n",
    "    return BMI # return the BMI as an output of the function"
   ]
  },
  {
   "cell_type": "code",
   "execution_count": 13,
   "metadata": {},
   "outputs": [
    {
     "name": "stdout",
     "output_type": "stream",
     "text": [
      "What is your weight in pound? 125\n",
      "What is your height in inch? 63\n",
      "Your BMI is: 22.67573696145124\n"
     ]
    }
   ],
   "source": [
    "YourWeight = input(\"What is your weight in pound? \")\n",
    "YourHeight = input(\"What is your height in inch? \")\n",
    "print('Your BMI is: '+ str(WeightCalc(YourWeight,YourHeight)))"
   ]
  }
 ],
 "metadata": {
  "anaconda-cloud": {},
  "kernelspec": {
   "display_name": "Python 3",
   "language": "python",
   "name": "python3"
  },
  "language_info": {
   "codemirror_mode": {
    "name": "ipython",
    "version": 3
   },
   "file_extension": ".py",
   "mimetype": "text/x-python",
   "name": "python",
   "nbconvert_exporter": "python",
   "pygments_lexer": "ipython3",
   "version": "3.6.2"
  },
  "nbpresent": {
   "slides": {
    "14777820-1bb5-4ff6-a972-37d642db5f59": {
     "id": "14777820-1bb5-4ff6-a972-37d642db5f59",
     "prev": "499d1bce-2e92-456b-a604-213fc7073726",
     "regions": {
      "157aa374-9d7f-4cd1-a83c-b3cb20b77815": {
       "attrs": {
        "height": 0.9182222222222223,
        "width": 0.904,
        "x": 0.038,
        "y": 0.042666666666666575
       },
       "content": {
        "cell": "f46b4a54-956d-482e-8f49-2c070062642c",
        "part": "source"
       },
       "height": 0.9,
       "id": "157aa374-9d7f-4cd1-a83c-b3cb20b77815",
       "width": 0.9,
       "x": 0.01,
       "y": 0.01
      }
     }
    },
    "3366a6ae-1757-43bc-afa2-1248168472c8": {
     "id": "3366a6ae-1757-43bc-afa2-1248168472c8",
     "prev": "14777820-1bb5-4ff6-a972-37d642db5f59",
     "regions": {
      "9440ae39-e0b9-4d82-b70e-fb538cbeae7d": {
       "attrs": {
        "height": 0.7937778320312501,
        "width": 0.842,
        "x": 0.1,
        "y": 0.08888888888888878
       },
       "content": {
        "cell": "fc627b40-83a2-4d2a-9d52-d7c079734fcd",
        "part": "source"
       },
       "height": 0.9,
       "id": "9440ae39-e0b9-4d82-b70e-fb538cbeae7d",
       "width": 0.9,
       "x": 0.01,
       "y": 0.01
      }
     }
    },
    "387700f9-20ed-4f6e-aa35-39b8457e7989": {
     "id": "387700f9-20ed-4f6e-aa35-39b8457e7989",
     "prev": "5a34a2bc-d12a-4947-b819-6e4d80e4a2fd",
     "regions": {
      "70ec9e16-c6f9-46c1-bbce-fbdf2825dc45": {
       "attrs": {
        "height": 0.9182222222222223,
        "width": 0.904,
        "x": 0.038,
        "y": 0.042666666666666575
       },
       "content": {
        "cell": "ccd91f94-7462-4855-b41e-4e4d92c51869",
        "part": "source"
       },
       "height": 0.9,
       "id": "70ec9e16-c6f9-46c1-bbce-fbdf2825dc45",
       "width": 0.9,
       "x": 0.01,
       "y": 0.01
      }
     }
    },
    "39f02a02-a91f-4bf0-93ea-f30cd5537ac9": {
     "id": "39f02a02-a91f-4bf0-93ea-f30cd5537ac9",
     "prev": "ab811b9a-3306-4538-9403-1faa0c943d21",
     "regions": {
      "6c8a63dc-8c61-46b5-9066-fdcb6c87a0df": {
       "attrs": {
        "height": 0.9182222222222223,
        "width": 0.904,
        "x": 0.038,
        "y": 0.042666666666666575
       },
       "content": {
        "cell": "ba951809-995a-40ec-832c-11f4bd28d7e4",
        "part": "source"
       },
       "height": 0.9,
       "id": "6c8a63dc-8c61-46b5-9066-fdcb6c87a0df",
       "width": 0.9,
       "x": 0.01,
       "y": 0.01
      }
     }
    },
    "499d1bce-2e92-456b-a604-213fc7073726": {
     "id": "499d1bce-2e92-456b-a604-213fc7073726",
     "prev": "fe84757a-963e-444d-ab7f-01c5f0055fd0",
     "regions": {
      "c46fe040-5a9b-474e-bbba-af54e5508e47": {
       "attrs": {
        "height": 0.9182222222222223,
        "width": 0.904,
        "x": 0.038,
        "y": 0.042666666666666575
       },
       "content": {
        "cell": "4ff054f1-538a-4cb6-8e03-331a3d4f1be1",
        "part": "source"
       },
       "height": 0.9,
       "id": "c46fe040-5a9b-474e-bbba-af54e5508e47",
       "width": 0.9,
       "x": 0.01,
       "y": 0.01
      }
     }
    },
    "5a34a2bc-d12a-4947-b819-6e4d80e4a2fd": {
     "id": "5a34a2bc-d12a-4947-b819-6e4d80e4a2fd",
     "prev": null,
     "regions": {
      "bc1edf9f-ad58-4ff4-b7ee-ea3c92cace17": {
       "attrs": {
        "height": 0.8400000000000001,
        "width": 0.81,
        "x": 0.096,
        "y": 0.12088888888888878
       },
       "content": {
        "cell": "c6bfb25d-e7a8-4c64-a4b0-2addfae63bd0",
        "part": "source"
       },
       "height": 0.9,
       "id": "bc1edf9f-ad58-4ff4-b7ee-ea3c92cace17",
       "width": 0.9,
       "x": 0.01,
       "y": 0.01
      }
     }
    },
    "5b57bd7c-a0e6-4b5b-a7ff-0192e53c633d": {
     "id": "5b57bd7c-a0e6-4b5b-a7ff-0192e53c633d",
     "prev": "387700f9-20ed-4f6e-aa35-39b8457e7989",
     "regions": {
      "fa6d13ec-8890-44dc-9bcc-d6dff69593fa": {
       "attrs": {
        "height": 0.9573333333333334,
        "width": 0.98,
        "x": 0.008,
        "y": 0.014222222222222127
       },
       "content": {
        "cell": "cc6ab0ed-84f4-45dd-97f0-b189c7cdc7b7",
        "part": "source"
       },
       "height": 0.9,
       "id": "fa6d13ec-8890-44dc-9bcc-d6dff69593fa",
       "width": 0.9,
       "x": 0.01,
       "y": 0.01
      }
     }
    },
    "ab811b9a-3306-4538-9403-1faa0c943d21": {
     "id": "ab811b9a-3306-4538-9403-1faa0c943d21",
     "prev": "3366a6ae-1757-43bc-afa2-1248168472c8",
     "regions": {
      "942e7749-7e32-40aa-b825-7e7c3ee8c080": {
       "attrs": {
        "height": 0.9182222222222223,
        "width": 0.904,
        "x": 0.038,
        "y": 0.042666666666666575
       },
       "content": {
        "cell": "3c190f66-5b29-424b-8346-c05b8ec8999f",
        "part": "source"
       },
       "height": 0.9,
       "id": "942e7749-7e32-40aa-b825-7e7c3ee8c080",
       "width": 0.9,
       "x": 0.01,
       "y": 0.01
      }
     }
    },
    "cd942684-1f01-41b2-ac62-07980c051826": {
     "id": "cd942684-1f01-41b2-ac62-07980c051826",
     "prev": "39f02a02-a91f-4bf0-93ea-f30cd5537ac9",
     "regions": {
      "b8925d5d-ff1e-4635-95dc-a61766024657": {
       "attrs": {
        "height": 0.9182222222222223,
        "width": 0.904,
        "x": 0.038,
        "y": 0.042666666666666575
       },
       "content": {
        "cell": "dddb151a-5841-412c-b2e5-a4f9b3db06d1",
        "part": "source"
       },
       "height": 0.9,
       "id": "b8925d5d-ff1e-4635-95dc-a61766024657",
       "width": 0.9,
       "x": 0.01,
       "y": 0.01
      }
     }
    },
    "fe84757a-963e-444d-ab7f-01c5f0055fd0": {
     "id": "fe84757a-963e-444d-ab7f-01c5f0055fd0",
     "prev": "5b57bd7c-a0e6-4b5b-a7ff-0192e53c633d",
     "regions": {
      "d42d2745-acff-4775-a992-1b2534c61e73": {
       "attrs": {
        "height": 0.9182222222222223,
        "width": 0.904,
        "x": 0.038,
        "y": 0.042666666666666575
       },
       "content": {
        "cell": "478eb0d5-fcd7-42d5-ad76-35f1cac7b934",
        "part": "source"
       },
       "height": 0.9,
       "id": "d42d2745-acff-4775-a992-1b2534c61e73",
       "width": 0.9,
       "x": 0.01,
       "y": 0.01
      }
     }
    }
   },
   "themes": {
    "default": "461fc31e-ba83-47f0-9143-e2699b25e0a4",
    "theme": {
     "1188f6ec-cb4e-4ae7-9ded-df5dea1b42c7": {
      "backgrounds": {
       "backgroundColor": {
        "background-color": "backgroundColor",
        "id": "backgroundColor"
       }
      },
      "id": "1188f6ec-cb4e-4ae7-9ded-df5dea1b42c7",
      "palette": {
       "backgroundColor": {
        "id": "backgroundColor",
        "rgb": [
         247,
         251,
         252
        ]
       },
       "headingColor": {
        "id": "headingColor",
        "rgb": [
         51,
         51,
         51
        ]
       },
       "linkColor": {
        "id": "linkColor",
        "rgb": [
         59,
         117,
         158
        ]
       },
       "mainColor": {
        "id": "mainColor",
        "rgb": [
         51,
         51,
         51
        ]
       }
      },
      "rules": {
       "a": {
        "color": "linkColor"
       },
       "h1": {
        "color": "headingColor",
        "font-family": "Quicksand",
        "font-size": 7
       },
       "h2": {
        "color": "headingColor",
        "font-family": "Quicksand",
        "font-size": 5
       },
       "h3": {
        "color": "headingColor",
        "font-family": "Quicksand",
        "font-size": 3.75
       },
       "h4": {
        "color": "headingColor",
        "font-family": "Quicksand",
        "font-size": 3
       },
       "h5": {
        "color": "headingColor",
        "font-family": "Quicksand"
       },
       "h6": {
        "color": "headingColor",
        "font-family": "Quicksand"
       },
       "h7": {
        "color": "headingColor",
        "font-family": "Quicksand"
       },
       "li": {
        "color": "mainColor",
        "font-family": "Open Sans",
        "font-size": 5
       },
       "p": {
        "color": "mainColor",
        "font-family": "Open Sans",
        "font-size": 5
       }
      },
      "text-base": {
       "color": "mainColor",
       "font-family": "Open Sans",
       "font-size": 5
      }
     },
     "28141bd1-6799-489b-b650-2f5cb0c41640": {
      "backgrounds": {
       "backgroundColor": {
        "background-color": "backgroundColor",
        "id": "backgroundColor"
       }
      },
      "id": "28141bd1-6799-489b-b650-2f5cb0c41640",
      "palette": {
       "backgroundColor": {
        "id": "backgroundColor",
        "rgb": [
         247,
         243,
         222
        ]
       },
       "headingColor": {
        "id": "headingColor",
        "rgb": [
         51,
         51,
         51
        ]
       },
       "linkColor": {
        "id": "linkColor",
        "rgb": [
         139,
         116,
         61
        ]
       },
       "mainColor": {
        "id": "mainColor",
        "rgb": [
         51,
         51,
         51
        ]
       }
      },
      "rules": {
       "a": {
        "color": "linkColor"
       },
       "h1": {
        "color": "headingColor",
        "font-family": "Oswald",
        "font-size": 7
       },
       "h2": {
        "color": "headingColor",
        "font-family": "Oswald",
        "font-size": 5
       },
       "h3": {
        "color": "headingColor",
        "font-family": "Oswald",
        "font-size": 3.75
       },
       "h4": {
        "color": "headingColor",
        "font-family": "Oswald",
        "font-size": 3
       },
       "h5": {
        "color": "headingColor",
        "font-family": "Oswald"
       },
       "h6": {
        "color": "headingColor",
        "font-family": "Oswald"
       },
       "h7": {
        "color": "headingColor",
        "font-family": "Oswald"
       },
       "li": {
        "color": "mainColor",
        "font-family": "Lato",
        "font-size": 5
       },
       "p": {
        "color": "mainColor",
        "font-family": "Lato",
        "font-size": 5
       }
      },
      "text-base": {
       "color": "mainColor",
       "font-family": "Lato",
       "font-size": 5
      }
     },
     "461fc31e-ba83-47f0-9143-e2699b25e0a4": {
      "backgrounds": {
       "backgroundColor": {
        "background-color": "backgroundColor",
        "id": "backgroundColor"
       }
      },
      "id": "461fc31e-ba83-47f0-9143-e2699b25e0a4",
      "palette": {
       "backgroundColor": {
        "id": "backgroundColor",
        "rgb": [
         17,
         17,
         17
        ]
       },
       "headingColor": {
        "id": "headingColor",
        "rgb": [
         238,
         238,
         238
        ]
       },
       "linkColor": {
        "id": "linkColor",
        "rgb": [
         231,
         173,
         82
        ]
       },
       "mainColor": {
        "id": "mainColor",
        "rgb": [
         238,
         238,
         238
        ]
       }
      },
      "rules": {
       "a": {
        "color": "linkColor"
       },
       "h1": {
        "color": "headingColor",
        "font-family": "Montserrat",
        "font-size": 7
       },
       "h2": {
        "color": "headingColor",
        "font-family": "Montserrat",
        "font-size": 5
       },
       "h3": {
        "color": "headingColor",
        "font-family": "Montserrat",
        "font-size": 3.75
       },
       "h4": {
        "color": "headingColor",
        "font-family": "Montserrat",
        "font-size": 3
       },
       "h5": {
        "color": "headingColor",
        "font-family": "Montserrat"
       },
       "h6": {
        "color": "headingColor",
        "font-family": "Montserrat"
       },
       "h7": {
        "color": "headingColor",
        "font-family": "Montserrat"
       },
       "li": {
        "color": "mainColor",
        "font-family": "Open Sans",
        "font-size": 4
       },
       "p": {
        "color": "mainColor",
        "font-family": "Open Sans",
        "font-size": 4
       }
      },
      "text-base": {
       "color": "mainColor",
       "font-family": "Open Sans",
       "font-size": 4
      }
     },
     "c70414c1-8cca-4bdd-992c-d3b3298311a2": {
      "backgrounds": {
       "backgroundColor": {
        "background-color": "backgroundColor",
        "id": "backgroundColor"
       }
      },
      "id": "c70414c1-8cca-4bdd-992c-d3b3298311a2",
      "palette": {
       "backgroundColor": {
        "id": "backgroundColor",
        "rgb": [
         34,
         34,
         34
        ]
       },
       "headingColor": {
        "id": "headingColor",
        "rgb": [
         238,
         238,
         238
        ]
       },
       "linkColor": {
        "id": "linkColor",
        "rgb": [
         170,
         34,
         51
        ]
       },
       "mainColor": {
        "id": "mainColor",
        "rgb": [
         238,
         238,
         238
        ]
       }
      },
      "rules": {
       "a": {
        "color": "linkColor"
       },
       "h1": {
        "color": "headingColor",
        "font-family": "Ubuntu",
        "font-size": 7
       },
       "h2": {
        "color": "headingColor",
        "font-family": "Ubuntu",
        "font-size": 5
       },
       "h3": {
        "color": "headingColor",
        "font-family": "Ubuntu",
        "font-size": 3.75
       },
       "h4": {
        "color": "headingColor",
        "font-family": "Ubuntu",
        "font-size": 3
       },
       "h5": {
        "color": "headingColor",
        "font-family": "Ubuntu"
       },
       "h6": {
        "color": "headingColor",
        "font-family": "Ubuntu"
       },
       "h7": {
        "color": "headingColor",
        "font-family": "Ubuntu"
       },
       "li": {
        "color": "mainColor",
        "font-family": "Ubuntu",
        "font-size": 5
       },
       "p": {
        "color": "mainColor",
        "font-family": "Ubuntu",
        "font-size": 5
       }
      },
      "text-base": {
       "color": "mainColor",
       "font-family": "Ubuntu",
       "font-size": 5
      }
     },
     "cfc03641-b8a9-4c57-9055-ad6afd80bf9e": {
      "backgrounds": {
       "dc7afa04-bf90-40b1-82a5-726e3cff5267": {
        "background-color": "31af15d2-7e15-44c5-ab5e-e04b16a89eff",
        "id": "dc7afa04-bf90-40b1-82a5-726e3cff5267"
       }
      },
      "id": "cfc03641-b8a9-4c57-9055-ad6afd80bf9e",
      "palette": {
       "19cc588f-0593-49c9-9f4b-e4d7cc113b1c": {
        "id": "19cc588f-0593-49c9-9f4b-e4d7cc113b1c",
        "rgb": [
         252,
         252,
         252
        ]
       },
       "31af15d2-7e15-44c5-ab5e-e04b16a89eff": {
        "id": "31af15d2-7e15-44c5-ab5e-e04b16a89eff",
        "rgb": [
         68,
         68,
         68
        ]
       },
       "50f92c45-a630-455b-aec3-788680ec7410": {
        "id": "50f92c45-a630-455b-aec3-788680ec7410",
        "rgb": [
         197,
         226,
         245
        ]
       },
       "c5cc3653-2ee1-402a-aba2-7caae1da4f6c": {
        "id": "c5cc3653-2ee1-402a-aba2-7caae1da4f6c",
        "rgb": [
         43,
         126,
         184
        ]
       },
       "efa7f048-9acb-414c-8b04-a26811511a21": {
        "id": "efa7f048-9acb-414c-8b04-a26811511a21",
        "rgb": [
         25.118061674008803,
         73.60176211453744,
         107.4819383259912
        ]
       }
      },
      "rules": {
       "a": {
        "color": "19cc588f-0593-49c9-9f4b-e4d7cc113b1c"
       },
       "blockquote": {
        "color": "50f92c45-a630-455b-aec3-788680ec7410",
        "font-size": 3
       },
       "code": {
        "font-family": "Anonymous Pro"
       },
       "h1": {
        "color": "19cc588f-0593-49c9-9f4b-e4d7cc113b1c",
        "font-family": "Merriweather",
        "font-size": 8
       },
       "h2": {
        "color": "19cc588f-0593-49c9-9f4b-e4d7cc113b1c",
        "font-family": "Merriweather",
        "font-size": 6
       },
       "h3": {
        "color": "50f92c45-a630-455b-aec3-788680ec7410",
        "font-family": "Lato",
        "font-size": 5.5
       },
       "h4": {
        "color": "c5cc3653-2ee1-402a-aba2-7caae1da4f6c",
        "font-family": "Lato",
        "font-size": 5
       },
       "h5": {
        "font-family": "Lato"
       },
       "h6": {
        "font-family": "Lato"
       },
       "h7": {
        "font-family": "Lato"
       },
       "li": {
        "color": "50f92c45-a630-455b-aec3-788680ec7410",
        "font-size": 3.25
       },
       "pre": {
        "font-family": "Anonymous Pro",
        "font-size": 4
       }
      },
      "text-base": {
       "color": "19cc588f-0593-49c9-9f4b-e4d7cc113b1c",
       "font-family": "Lato",
       "font-size": 4
      }
     }
    }
   }
  }
 },
 "nbformat": 4,
 "nbformat_minor": 1
}
