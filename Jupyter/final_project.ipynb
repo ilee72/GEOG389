{
 "cells": [
  {
   "cell_type": "markdown",
   "metadata": {},
   "source": [
    "# Final Project (GEOG-389)\n",
    "\n",
    "---"
   ]
  },
  {
   "cell_type": "markdown",
   "metadata": {},
   "source": [
    "In the final project, you need to write Python program by yourself to analyze geospatial data. You can choose one or more datasets in the [GeoDA data inventory](https://geodacenter.github.io/data-and-lab/) or any other data sources for the analyses. The [Hawaii Geospatial Data Portal](http://geoportal.hawaii.gov/) is a good source to obtain local data. You can also use the datasets provided in the previous lab. If you choose to use the lab data, you need to analyze the data in different ways.\n",
    "\n",
    "The Python program should include the entire process of data analysis including but not limited to reading data, data preview, manipulation, mapping and analysis. It is recommended to do the final project in a Jupyter Notebook, in which you should include the following information in the text boxes \n",
    "\n",
    " - The meaning of each line or box of code.\n",
    " - The rationale of the analysis (why you analyze in this way). \n",
    " - The interpretation of the analysis result (what the result tells us). \n",
    "\n",
    "The project should include **at least four** of the following analysis methods. The methods can be applied in one or more datasets.\n",
    "\n",
    "- Choropleth map\n",
    "- Kernel density map\n",
    "- Mean center and standard distance circle\n",
    "- Mean center and standard deviational ellipse\n",
    "- Statistic test of mean nearest neighbor distance\n",
    "- K-function\n",
    "- Global spatial autocorrelation (e.g. Moran's _I_)\n",
    "- Local spatial autocorrelation (e.g. local Moraon's _I_)\n",
    "- Spatial join\n",
    "- Attribute join\n",
    "- Zonal operation\n",
    "- Raster value in point\n",
    "- Spatial interpolation\n",
    "- Linear regression"
   ]
  },
  {
   "cell_type": "markdown",
   "metadata": {},
   "source": [
    "> You can refer to previous labs to conduct these analyses. If you have trouble open the Jupyter Notebooks of the previous lab in github, you can copy and paste the link to https://nbviewer.jupyter.org/ to view the notebooks."
   ]
  },
  {
   "cell_type": "markdown",
   "metadata": {},
   "source": [
    "---"
   ]
  },
  {
   "cell_type": "markdown",
   "metadata": {},
   "source": [
    "### Other Materials\n",
    "\n",
    "Other than the previous lab, there are some useful materials for the project:\n",
    " - [Beginner's python cheatsheet](https://ehmatthes.github.io/pcc/cheatsheets/README.html)\n",
    " - [Pandas DataFrame cheatsheet](https://s3.amazonaws.com/assets.datacamp.com/blog_assets/PandasPythonForDataScience.pdf)\n",
    " - [Numpy array cheatsheet](https://s3.amazonaws.com/assets.datacamp.com/blog_assets/Numpy_Python_Cheat_Sheet.pdf)\n",
    " - [Jupyter Notebook Keyboard Shortcuts](https://www.cheatography.com/weidadeyue/cheat-sheets/jupyter-notebook/)"
   ]
  },
  {
   "cell_type": "markdown",
   "metadata": {},
   "source": [
    "---"
   ]
  },
  {
   "cell_type": "markdown",
   "metadata": {},
   "source": [
    "### Submission\n",
    "\n",
    "Please save the your project in a Jupyter Notebook file (.ipynb). Submit the file through Laulima by **Sunday May 5th** through [Laulima](https://laulima.hawaii.edu)."
   ]
  }
 ],
 "metadata": {
  "kernelspec": {
   "display_name": "Python 3",
   "language": "python",
   "name": "python3"
  },
  "language_info": {
   "codemirror_mode": {
    "name": "ipython",
    "version": 3
   },
   "file_extension": ".py",
   "mimetype": "text/x-python",
   "name": "python",
   "nbconvert_exporter": "python",
   "pygments_lexer": "ipython3",
   "version": "3.7.1"
  }
 },
 "nbformat": 4,
 "nbformat_minor": 2
}
